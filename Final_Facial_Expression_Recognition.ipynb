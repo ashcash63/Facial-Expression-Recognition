{
  "cells": [
    {
      "cell_type": "code",
      "execution_count": null,
      "metadata": {
        "id": "R77i6dBD3YHy"
      },
      "outputs": [],
      "source": [
        "#import necessary libraries\n",
        "import os\n",
        "import tensorflow.keras as tk \n",
        "import pandas as pd\n",
        "import tensorflow as tf\n",
        "import numpy as np\n",
        "from keras.layers import Input \n",
        "import matplotlib.pyplot as plt \n",
        "from sklearn.model_selection import train_test_split "
      ]
    },
    {
      "cell_type": "code",
      "execution_count": null,
      "metadata": {
        "colab": {
          "base_uri": "https://localhost:8080/",
          "height": 206
        },
        "id": "HWTdqJsW4QY2",
        "outputId": "f9f7b11b-f2a0-4d0c-df80-3d5885ea60c8"
      },
      "outputs": [
        {
          "output_type": "execute_result",
          "data": {
            "text/html": [
              "\n",
              "  <div id=\"df-424d7f32-dc15-40a5-bc09-e030b332c2df\">\n",
              "    <div class=\"colab-df-container\">\n",
              "      <div>\n",
              "<style scoped>\n",
              "    .dataframe tbody tr th:only-of-type {\n",
              "        vertical-align: middle;\n",
              "    }\n",
              "\n",
              "    .dataframe tbody tr th {\n",
              "        vertical-align: top;\n",
              "    }\n",
              "\n",
              "    .dataframe thead th {\n",
              "        text-align: right;\n",
              "    }\n",
              "</style>\n",
              "<table border=\"1\" class=\"dataframe\">\n",
              "  <thead>\n",
              "    <tr style=\"text-align: right;\">\n",
              "      <th></th>\n",
              "      <th>emotion</th>\n",
              "      <th>pixels</th>\n",
              "      <th>Usage</th>\n",
              "    </tr>\n",
              "  </thead>\n",
              "  <tbody>\n",
              "    <tr>\n",
              "      <th>0</th>\n",
              "      <td>0</td>\n",
              "      <td>70 80 82 72 58 58 60 63 54 58 60 48 89 115 121...</td>\n",
              "      <td>Training</td>\n",
              "    </tr>\n",
              "    <tr>\n",
              "      <th>1</th>\n",
              "      <td>0</td>\n",
              "      <td>151 150 147 155 148 133 111 140 170 174 182 15...</td>\n",
              "      <td>Training</td>\n",
              "    </tr>\n",
              "    <tr>\n",
              "      <th>2</th>\n",
              "      <td>2</td>\n",
              "      <td>231 212 156 164 174 138 161 173 182 200 106 38...</td>\n",
              "      <td>Training</td>\n",
              "    </tr>\n",
              "    <tr>\n",
              "      <th>3</th>\n",
              "      <td>4</td>\n",
              "      <td>24 32 36 30 32 23 19 20 30 41 21 22 32 34 21 1...</td>\n",
              "      <td>Training</td>\n",
              "    </tr>\n",
              "    <tr>\n",
              "      <th>4</th>\n",
              "      <td>6</td>\n",
              "      <td>4 0 0 0 0 0 0 0 0 0 0 0 3 15 23 28 48 50 58 84...</td>\n",
              "      <td>Training</td>\n",
              "    </tr>\n",
              "  </tbody>\n",
              "</table>\n",
              "</div>\n",
              "      <button class=\"colab-df-convert\" onclick=\"convertToInteractive('df-424d7f32-dc15-40a5-bc09-e030b332c2df')\"\n",
              "              title=\"Convert this dataframe to an interactive table.\"\n",
              "              style=\"display:none;\">\n",
              "        \n",
              "  <svg xmlns=\"http://www.w3.org/2000/svg\" height=\"24px\"viewBox=\"0 0 24 24\"\n",
              "       width=\"24px\">\n",
              "    <path d=\"M0 0h24v24H0V0z\" fill=\"none\"/>\n",
              "    <path d=\"M18.56 5.44l.94 2.06.94-2.06 2.06-.94-2.06-.94-.94-2.06-.94 2.06-2.06.94zm-11 1L8.5 8.5l.94-2.06 2.06-.94-2.06-.94L8.5 2.5l-.94 2.06-2.06.94zm10 10l.94 2.06.94-2.06 2.06-.94-2.06-.94-.94-2.06-.94 2.06-2.06.94z\"/><path d=\"M17.41 7.96l-1.37-1.37c-.4-.4-.92-.59-1.43-.59-.52 0-1.04.2-1.43.59L10.3 9.45l-7.72 7.72c-.78.78-.78 2.05 0 2.83L4 21.41c.39.39.9.59 1.41.59.51 0 1.02-.2 1.41-.59l7.78-7.78 2.81-2.81c.8-.78.8-2.07 0-2.86zM5.41 20L4 18.59l7.72-7.72 1.47 1.35L5.41 20z\"/>\n",
              "  </svg>\n",
              "      </button>\n",
              "      \n",
              "  <style>\n",
              "    .colab-df-container {\n",
              "      display:flex;\n",
              "      flex-wrap:wrap;\n",
              "      gap: 12px;\n",
              "    }\n",
              "\n",
              "    .colab-df-convert {\n",
              "      background-color: #E8F0FE;\n",
              "      border: none;\n",
              "      border-radius: 50%;\n",
              "      cursor: pointer;\n",
              "      display: none;\n",
              "      fill: #1967D2;\n",
              "      height: 32px;\n",
              "      padding: 0 0 0 0;\n",
              "      width: 32px;\n",
              "    }\n",
              "\n",
              "    .colab-df-convert:hover {\n",
              "      background-color: #E2EBFA;\n",
              "      box-shadow: 0px 1px 2px rgba(60, 64, 67, 0.3), 0px 1px 3px 1px rgba(60, 64, 67, 0.15);\n",
              "      fill: #174EA6;\n",
              "    }\n",
              "\n",
              "    [theme=dark] .colab-df-convert {\n",
              "      background-color: #3B4455;\n",
              "      fill: #D2E3FC;\n",
              "    }\n",
              "\n",
              "    [theme=dark] .colab-df-convert:hover {\n",
              "      background-color: #434B5C;\n",
              "      box-shadow: 0px 1px 3px 1px rgba(0, 0, 0, 0.15);\n",
              "      filter: drop-shadow(0px 1px 2px rgba(0, 0, 0, 0.3));\n",
              "      fill: #FFFFFF;\n",
              "    }\n",
              "  </style>\n",
              "\n",
              "      <script>\n",
              "        const buttonEl =\n",
              "          document.querySelector('#df-424d7f32-dc15-40a5-bc09-e030b332c2df button.colab-df-convert');\n",
              "        buttonEl.style.display =\n",
              "          google.colab.kernel.accessAllowed ? 'block' : 'none';\n",
              "\n",
              "        async function convertToInteractive(key) {\n",
              "          const element = document.querySelector('#df-424d7f32-dc15-40a5-bc09-e030b332c2df');\n",
              "          const dataTable =\n",
              "            await google.colab.kernel.invokeFunction('convertToInteractive',\n",
              "                                                     [key], {});\n",
              "          if (!dataTable) return;\n",
              "\n",
              "          const docLinkHtml = 'Like what you see? Visit the ' +\n",
              "            '<a target=\"_blank\" href=https://colab.research.google.com/notebooks/data_table.ipynb>data table notebook</a>'\n",
              "            + ' to learn more about interactive tables.';\n",
              "          element.innerHTML = '';\n",
              "          dataTable['output_type'] = 'display_data';\n",
              "          await google.colab.output.renderOutput(dataTable, element);\n",
              "          const docLink = document.createElement('div');\n",
              "          docLink.innerHTML = docLinkHtml;\n",
              "          element.appendChild(docLink);\n",
              "        }\n",
              "      </script>\n",
              "    </div>\n",
              "  </div>\n",
              "  "
            ],
            "text/plain": [
              "   emotion                                             pixels     Usage\n",
              "0        0  70 80 82 72 58 58 60 63 54 58 60 48 89 115 121...  Training\n",
              "1        0  151 150 147 155 148 133 111 140 170 174 182 15...  Training\n",
              "2        2  231 212 156 164 174 138 161 173 182 200 106 38...  Training\n",
              "3        4  24 32 36 30 32 23 19 20 30 41 21 22 32 34 21 1...  Training\n",
              "4        6  4 0 0 0 0 0 0 0 0 0 0 0 3 15 23 28 48 50 58 84...  Training"
            ]
          },
          "metadata": {},
          "execution_count": 2
        }
      ],
      "source": [
        "df = pd.read_csv('/content/drive/MyDrive/facial_expression/fer2013/fer2013.csv')\n",
        "df.head()"
      ]
    },
    {
      "cell_type": "code",
      "execution_count": null,
      "metadata": {
        "colab": {
          "base_uri": "https://localhost:8080/"
        },
        "id": "v9ddjmqZ4xd0",
        "outputId": "d6830b17-6c1b-4d90-ddb3-7f12267a36cf"
      },
      "outputs": [
        {
          "output_type": "execute_result",
          "data": {
            "text/plain": [
              "array([0, 2, 4, 6, 3, 5, 1])"
            ]
          },
          "metadata": {},
          "execution_count": 3
        }
      ],
      "source": [
        "df.emotion.unique()"
      ]
    },
    {
      "cell_type": "code",
      "execution_count": null,
      "metadata": {
        "id": "760Lwjd-42nA"
      },
      "outputs": [],
      "source": [
        "label_to_text = {0:'anger', 1:'disgust', 2:'fear', 3:'happiness', 4: 'sadness', 5: 'surprise', 6: 'neutral'} "
      ]
    },
    {
      "cell_type": "code",
      "execution_count": null,
      "metadata": {
        "id": "9c-Io5zP6U2x"
      },
      "outputs": [],
      "source": [
        "img_array = df.pixels.apply(lambda x : np.array(x.split(' ')).reshape(48, 48,1).astype('float32'))"
      ]
    },
    {
      "cell_type": "code",
      "execution_count": null,
      "metadata": {
        "id": "gGJRpYhOgvB9"
      },
      "outputs": [],
      "source": [
        "img_array = np.stack(img_array,axis=0)"
      ]
    },
    {
      "cell_type": "code",
      "execution_count": null,
      "metadata": {
        "id": "LHRxLYgZFT_z"
      },
      "outputs": [],
      "source": [
        "lables = df.emotion.values"
      ]
    },
    {
      "cell_type": "code",
      "execution_count": null,
      "metadata": {
        "id": "qteosZOLLo8r"
      },
      "outputs": [],
      "source": [
        "x_train,x_test,y_train,y_test = train_test_split(img_array,lables,test_size = .2)"
      ]
    },
    {
      "cell_type": "code",
      "execution_count": null,
      "metadata": {
        "id": "AQEE-H1N5-Ff",
        "colab": {
          "base_uri": "https://localhost:8080/"
        },
        "outputId": "6d389fc2-a127-41df-b22c-29a4713860ad"
      },
      "outputs": [
        {
          "output_type": "execute_result",
          "data": {
            "text/plain": [
              "((28709, 48, 48, 1), (28709,), (7178, 48, 48, 1), (7178,))"
            ]
          },
          "metadata": {},
          "execution_count": 9
        }
      ],
      "source": [
        "x_train.shape,y_train.shape,x_test.shape,y_test.shape"
      ]
    },
    {
      "cell_type": "code",
      "execution_count": null,
      "metadata": {
        "id": "9-B20k6q6ENu"
      },
      "outputs": [],
      "source": [
        "x_train = x_train/255\n",
        "x_test = x_test/255"
      ]
    },
    {
      "cell_type": "code",
      "execution_count": null,
      "metadata": {
        "id": "gQYh4VUm44k-"
      },
      "outputs": [],
      "source": [
        "model = tk.Sequential()\n",
        "model.add(tk.layers.Conv2D(32,(3,3), activation='relu', input_shape =  (48,48,1)))\n",
        "model.add(tk.layers.MaxPooling2D(2,2))\n",
        "model.add(tk.layers.BatchNormalization())\n",
        "model.add(tk.layers.Conv2D(64, (3,3), activation='relu'))\n",
        "model.add(tk.layers.MaxPooling2D((2,2)))\n",
        "model.add(tk.layers.BatchNormalization())\n",
        "model.add(tk.layers.Conv2D(128,(3,3), activation='relu'))\n",
        "model.add(tk.layers.Dropout(0.1))"
      ]
    },
    {
      "cell_type": "code",
      "execution_count": null,
      "metadata": {
        "colab": {
          "base_uri": "https://localhost:8080/"
        },
        "id": "oXyHGa78JvMc",
        "outputId": "b7f20648-f52b-4973-9cfc-8b54ba808da5"
      },
      "outputs": [
        {
          "output_type": "stream",
          "name": "stdout",
          "text": [
            "Model: \"sequential\"\n",
            "_________________________________________________________________\n",
            " Layer (type)                Output Shape              Param #   \n",
            "=================================================================\n",
            " conv2d (Conv2D)             (None, 46, 46, 32)        320       \n",
            "                                                                 \n",
            " max_pooling2d (MaxPooling2D  (None, 23, 23, 32)       0         \n",
            " )                                                               \n",
            "                                                                 \n",
            " batch_normalization (BatchN  (None, 23, 23, 32)       128       \n",
            " ormalization)                                                   \n",
            "                                                                 \n",
            " conv2d_1 (Conv2D)           (None, 21, 21, 64)        18496     \n",
            "                                                                 \n",
            " max_pooling2d_1 (MaxPooling  (None, 10, 10, 64)       0         \n",
            " 2D)                                                             \n",
            "                                                                 \n",
            " batch_normalization_1 (Batc  (None, 10, 10, 64)       256       \n",
            " hNormalization)                                                 \n",
            "                                                                 \n",
            " conv2d_2 (Conv2D)           (None, 8, 8, 128)         73856     \n",
            "                                                                 \n",
            " dropout (Dropout)           (None, 8, 8, 128)         0         \n",
            "                                                                 \n",
            "=================================================================\n",
            "Total params: 93,056\n",
            "Trainable params: 92,864\n",
            "Non-trainable params: 192\n",
            "_________________________________________________________________\n"
          ]
        }
      ],
      "source": [
        "model.summary()"
      ]
    },
    {
      "cell_type": "code",
      "execution_count": null,
      "metadata": {
        "id": "DpU1p3mz5K_5"
      },
      "outputs": [],
      "source": [
        "model.add(tk.layers.Flatten())\n",
        "model.add(tk.layers.Dense(128,activation='relu'))\n",
        "model.add(tk.layers.Dense(7,activation='softmax'))"
      ]
    },
    {
      "cell_type": "code",
      "execution_count": null,
      "metadata": {
        "colab": {
          "base_uri": "https://localhost:8080/"
        },
        "id": "HuEDSmSjJkut",
        "outputId": "e0129c76-40b2-4d04-8aa0-19e29bd81797"
      },
      "outputs": [
        {
          "output_type": "stream",
          "name": "stdout",
          "text": [
            "Model: \"sequential\"\n",
            "_________________________________________________________________\n",
            " Layer (type)                Output Shape              Param #   \n",
            "=================================================================\n",
            " conv2d (Conv2D)             (None, 46, 46, 32)        320       \n",
            "                                                                 \n",
            " max_pooling2d (MaxPooling2D  (None, 23, 23, 32)       0         \n",
            " )                                                               \n",
            "                                                                 \n",
            " batch_normalization (BatchN  (None, 23, 23, 32)       128       \n",
            " ormalization)                                                   \n",
            "                                                                 \n",
            " conv2d_1 (Conv2D)           (None, 21, 21, 64)        18496     \n",
            "                                                                 \n",
            " max_pooling2d_1 (MaxPooling  (None, 10, 10, 64)       0         \n",
            " 2D)                                                             \n",
            "                                                                 \n",
            " batch_normalization_1 (Batc  (None, 10, 10, 64)       256       \n",
            " hNormalization)                                                 \n",
            "                                                                 \n",
            " conv2d_2 (Conv2D)           (None, 8, 8, 128)         73856     \n",
            "                                                                 \n",
            " dropout (Dropout)           (None, 8, 8, 128)         0         \n",
            "                                                                 \n",
            " flatten (Flatten)           (None, 8192)              0         \n",
            "                                                                 \n",
            " dense (Dense)               (None, 128)               1048704   \n",
            "                                                                 \n",
            " dense_1 (Dense)             (None, 7)                 903       \n",
            "                                                                 \n",
            "=================================================================\n",
            "Total params: 1,142,663\n",
            "Trainable params: 1,142,471\n",
            "Non-trainable params: 192\n",
            "_________________________________________________________________\n"
          ]
        }
      ],
      "source": [
        "model.summary()"
      ]
    },
    {
      "cell_type": "code",
      "execution_count": null,
      "metadata": {
        "id": "VFfk1xhgKgpU"
      },
      "outputs": [],
      "source": [
        "model.compile(optimizer = tk.optimizers.Adam(learning_rate=.0001),loss = 'sparse_categorical_crossentropy',metrics = ['accuracy'])"
      ]
    },
    {
      "cell_type": "code",
      "execution_count": null,
      "metadata": {
        "id": "1eH-xxTRLIYc"
      },
      "outputs": [],
      "source": [
        "import os\n",
        "try:\n",
        "  os.mkdir('checkpoint')\n",
        "except:\n",
        "  pass\n",
        "#mkdir() method in Python is used to create a directory named path with the specified numeric mode. "
      ]
    },
    {
      "cell_type": "code",
      "execution_count": null,
      "metadata": {
        "id": "pK5xayy2gZq7"
      },
      "outputs": [],
      "source": [
        "file_name = 'base_model.h5'\n",
        "checkpoint_path= os.path.join('checkpoint',file_name)\n",
        "\n",
        "call_back = tk.callbacks.ModelCheckpoint(filepath=checkpoint_path,\n",
        "                                               monitor='val_accuracy',\n",
        "                                               verbose=1,\n",
        "                                               save_freq='epoch',\n",
        "                                               save_best_only=True,\n",
        "                                               save_weights_inly=False,\n",
        "                                               mode='max')"
      ]
    },
    {
      "cell_type": "code",
      "execution_count": null,
      "metadata": {
        "colab": {
          "base_uri": "https://localhost:8080/"
        },
        "id": "Sep_ng37zTTi",
        "outputId": "e0285d26-98c5-4d5a-b4c7-e3148d83fcc7"
      },
      "outputs": [
        {
          "output_type": "stream",
          "name": "stdout",
          "text": [
            "Epoch 1/15\n",
            "861/862 [============================>.] - ETA: 0s - loss: 1.5545 - accuracy: 0.3939\n",
            "Epoch 00001: val_accuracy improved from -inf to 0.46214, saving model to checkpoint/base_model.h5\n",
            "862/862 [==============================] - 125s 144ms/step - loss: 1.5544 - accuracy: 0.3939 - val_loss: 1.4280 - val_accuracy: 0.4621\n",
            "Epoch 2/15\n",
            "861/862 [============================>.] - ETA: 0s - loss: 1.3144 - accuracy: 0.5004\n",
            "Epoch 00002: val_accuracy improved from 0.46214 to 0.51697, saving model to checkpoint/base_model.h5\n",
            "862/862 [==============================] - 103s 119ms/step - loss: 1.3142 - accuracy: 0.5006 - val_loss: 1.2989 - val_accuracy: 0.5170\n",
            "Epoch 3/15\n",
            "861/862 [============================>.] - ETA: 0s - loss: 1.1799 - accuracy: 0.5521\n",
            "Epoch 00003: val_accuracy improved from 0.51697 to 0.52742, saving model to checkpoint/base_model.h5\n",
            "862/862 [==============================] - 99s 115ms/step - loss: 1.1798 - accuracy: 0.5521 - val_loss: 1.2870 - val_accuracy: 0.5274\n",
            "Epoch 4/15\n",
            "861/862 [============================>.] - ETA: 0s - loss: 1.0611 - accuracy: 0.6065\n",
            "Epoch 00004: val_accuracy improved from 0.52742 to 0.54830, saving model to checkpoint/base_model.h5\n",
            "862/862 [==============================] - 99s 115ms/step - loss: 1.0610 - accuracy: 0.6065 - val_loss: 1.2226 - val_accuracy: 0.5483\n",
            "Epoch 5/15\n",
            "861/862 [============================>.] - ETA: 0s - loss: 0.9519 - accuracy: 0.6504\n",
            "Epoch 00005: val_accuracy improved from 0.54830 to 0.56658, saving model to checkpoint/base_model.h5\n",
            "862/862 [==============================] - 100s 116ms/step - loss: 0.9519 - accuracy: 0.6504 - val_loss: 1.1879 - val_accuracy: 0.5666\n",
            "Epoch 6/15\n",
            "861/862 [============================>.] - ETA: 0s - loss: 0.8434 - accuracy: 0.6952\n",
            "Epoch 00006: val_accuracy improved from 0.56658 to 0.57441, saving model to checkpoint/base_model.h5\n",
            "862/862 [==============================] - 99s 115ms/step - loss: 0.8434 - accuracy: 0.6953 - val_loss: 1.1908 - val_accuracy: 0.5744\n",
            "Epoch 7/15\n",
            "861/862 [============================>.] - ETA: 0s - loss: 0.7423 - accuracy: 0.7391\n",
            "Epoch 00007: val_accuracy did not improve from 0.57441\n",
            "862/862 [==============================] - 100s 116ms/step - loss: 0.7423 - accuracy: 0.7390 - val_loss: 1.2462 - val_accuracy: 0.5666\n",
            "Epoch 8/15\n",
            "861/862 [============================>.] - ETA: 0s - loss: 0.6424 - accuracy: 0.7799\n",
            "Epoch 00008: val_accuracy did not improve from 0.57441\n",
            "862/862 [==============================] - 100s 115ms/step - loss: 0.6423 - accuracy: 0.7799 - val_loss: 1.2966 - val_accuracy: 0.5544\n",
            "Epoch 9/15\n",
            "861/862 [============================>.] - ETA: 0s - loss: 0.5484 - accuracy: 0.8158\n",
            "Epoch 00009: val_accuracy improved from 0.57441 to 0.57528, saving model to checkpoint/base_model.h5\n",
            "862/862 [==============================] - 99s 115ms/step - loss: 0.5483 - accuracy: 0.8159 - val_loss: 1.2926 - val_accuracy: 0.5753\n",
            "Epoch 10/15\n",
            "861/862 [============================>.] - ETA: 0s - loss: 0.4630 - accuracy: 0.8485\n",
            "Epoch 00010: val_accuracy did not improve from 0.57528\n",
            "862/862 [==============================] - 100s 116ms/step - loss: 0.4630 - accuracy: 0.8485 - val_loss: 1.3602 - val_accuracy: 0.5657\n",
            "Epoch 11/15\n",
            "861/862 [============================>.] - ETA: 0s - loss: 0.3897 - accuracy: 0.8753\n",
            "Epoch 00011: val_accuracy improved from 0.57528 to 0.57615, saving model to checkpoint/base_model.h5\n",
            "862/862 [==============================] - 99s 115ms/step - loss: 0.3897 - accuracy: 0.8753 - val_loss: 1.3362 - val_accuracy: 0.5762\n",
            "Epoch 12/15\n",
            "861/862 [============================>.] - ETA: 0s - loss: 0.3250 - accuracy: 0.8995\n",
            "Epoch 00012: val_accuracy improved from 0.57615 to 0.57963, saving model to checkpoint/base_model.h5\n",
            "862/862 [==============================] - 100s 115ms/step - loss: 0.3250 - accuracy: 0.8995 - val_loss: 1.4532 - val_accuracy: 0.5796\n",
            "Epoch 13/15\n",
            "861/862 [============================>.] - ETA: 0s - loss: 0.2735 - accuracy: 0.9200\n",
            "Epoch 00013: val_accuracy improved from 0.57963 to 0.58660, saving model to checkpoint/base_model.h5\n",
            "862/862 [==============================] - 99s 115ms/step - loss: 0.2735 - accuracy: 0.9200 - val_loss: 1.5019 - val_accuracy: 0.5866\n",
            "Epoch 14/15\n",
            "861/862 [============================>.] - ETA: 0s - loss: 0.2285 - accuracy: 0.9340\n",
            "Epoch 00014: val_accuracy did not improve from 0.58660\n",
            "862/862 [==============================] - 100s 116ms/step - loss: 0.2285 - accuracy: 0.9340 - val_loss: 1.6617 - val_accuracy: 0.5396\n",
            "Epoch 15/15\n",
            "861/862 [============================>.] - ETA: 0s - loss: 0.1893 - accuracy: 0.9479\n",
            "Epoch 00015: val_accuracy did not improve from 0.58660\n",
            "862/862 [==============================] - 100s 116ms/step - loss: 0.1893 - accuracy: 0.9479 - val_loss: 1.6192 - val_accuracy: 0.5614\n"
          ]
        },
        {
          "output_type": "execute_result",
          "data": {
            "text/plain": [
              "<keras.callbacks.History at 0x7fd960331f10>"
            ]
          },
          "metadata": {},
          "execution_count": 16
        }
      ],
      "source": [
        "model.fit(x_train,y_train,epochs=15,validation_split=.04,callbacks=call_back)"
      ]
    },
    {
      "cell_type": "code",
      "execution_count": null,
      "metadata": {
        "colab": {
          "base_uri": "https://localhost:8080/",
          "height": 234
        },
        "id": "XR7xpS3mLaf3",
        "outputId": "393e8ab6-3c1f-4427-a1d8-c3ba26e5b6fc"
      },
      "outputs": [
        {
          "output_type": "error",
          "ename": "NameError",
          "evalue": "ignored",
          "traceback": [
            "\u001b[0;31m---------------------------------------------------------------------------\u001b[0m",
            "\u001b[0;31mNameError\u001b[0m                                 Traceback (most recent call last)",
            "\u001b[0;32m<ipython-input-1-cf22bdd2e65d>\u001b[0m in \u001b[0;36m<module>\u001b[0;34m()\u001b[0m\n\u001b[0;32m----> 1\u001b[0;31m \u001b[0mfinal_model\u001b[0m \u001b[0;34m=\u001b[0m \u001b[0mtk\u001b[0m\u001b[0;34m.\u001b[0m\u001b[0mmodels\u001b[0m\u001b[0;34m.\u001b[0m\u001b[0mload_model\u001b[0m\u001b[0;34m(\u001b[0m\u001b[0mcheckpoint_path\u001b[0m\u001b[0;34m)\u001b[0m\u001b[0;34m\u001b[0m\u001b[0;34m\u001b[0m\u001b[0m\n\u001b[0m\u001b[1;32m      2\u001b[0m \u001b[0;32mfrom\u001b[0m \u001b[0mIPython\u001b[0m\u001b[0;34m.\u001b[0m\u001b[0mdisplay\u001b[0m \u001b[0;32mimport\u001b[0m \u001b[0mclear_output\u001b[0m\u001b[0;34m\u001b[0m\u001b[0;34m\u001b[0m\u001b[0m\n\u001b[1;32m      3\u001b[0m \u001b[0;32mimport\u001b[0m \u001b[0mtime\u001b[0m\u001b[0;34m\u001b[0m\u001b[0;34m\u001b[0m\u001b[0m\n\u001b[1;32m      4\u001b[0m \u001b[0;32mfor\u001b[0m \u001b[0mk\u001b[0m \u001b[0;32min\u001b[0m \u001b[0mrange\u001b[0m\u001b[0;34m(\u001b[0m\u001b[0;36m12\u001b[0m\u001b[0;34m)\u001b[0m\u001b[0;34m:\u001b[0m\u001b[0;34m\u001b[0m\u001b[0;34m\u001b[0m\u001b[0m\n\u001b[1;32m      5\u001b[0m   \u001b[0mprint\u001b[0m\u001b[0;34m(\u001b[0m\u001b[0;34mf'actual label is {label_to_text[y_test[k]]}'\u001b[0m\u001b[0;34m)\u001b[0m\u001b[0;34m\u001b[0m\u001b[0;34m\u001b[0m\u001b[0m\n",
            "\u001b[0;31mNameError\u001b[0m: name 'tk' is not defined"
          ]
        }
      ],
      "source": [
        "final_model = tk.models.load_model(checkpoint_path)\n",
        "from IPython.display import clear_output\n",
        "import time\n",
        "for k in range(12):\n",
        "  print(f'actual label is {label_to_text[y_test[k]]}')\n",
        "  predicted_class = final_model.predict(tf.expand_dims(x_test[k],0)).argmax()\n",
        "  print(f'predicted label is {label_to_text[predicted_class]}')\n",
        "  plt.imshow(x_test[k].reshape((48,48)))\n",
        "  plt.show()\n",
        "  time.sleep(2)\n",
        "  clear_output(wait=True)"
      ]
    }
  ],
  "metadata": {
    "colab": {
      "name": "Final Facial Expression Recognition.ipynb",
      "provenance": [],
      "collapsed_sections": []
    },
    "kernelspec": {
      "display_name": "Python 3",
      "name": "python3"
    },
    "language_info": {
      "name": "python"
    }
  },
  "nbformat": 4,
  "nbformat_minor": 0
}